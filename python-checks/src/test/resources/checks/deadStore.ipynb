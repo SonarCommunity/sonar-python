def fp_when_using_dynamic_object_information():
    x = 42 # Noncompliant
    x??
    x = 24
    print(x)
