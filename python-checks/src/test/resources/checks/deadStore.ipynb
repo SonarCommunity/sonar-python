def foo():
    x = 42 # Noncompliant
    x??
    x = 24
    print(x)
