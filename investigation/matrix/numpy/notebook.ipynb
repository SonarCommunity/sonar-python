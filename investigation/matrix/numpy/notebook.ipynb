{
 "cells": [
  {
   "cell_type": "markdown",
   "metadata": {},
   "source": [
    "# Matrix operations investigation (Numpy)\n",
    "\n",
    "## Links \n",
    "Link to the MMF : [MMF-3802](https://sonarsource.atlassian.net/browse/MMF-3802)\n",
    "\n",
    "Link to the Google Doc : [Solution Discovery: Python Matrix Operations](https://docs.google.com/document/d/1uzNqT2iG7-dnrGAOG_ZOTg8H5YmuDWLieRi_RLuqu4g/edit?usp=sharing)\n",
    "\n",
    "## Introduction\n",
    "The goal of this notebook is to investigate the \"WHAT\" of the MMF. The focus is trying to understand how much information can we hope to extract from Numpy programs leveraging those operations.\n",
    "\n",
    "The following notebook is a collection of snippets, in order of increasing complexity, that are meant to showcase the different ways in which matrix operations can be used in Python and Numpy.\n",
    "They also show what kind of information can be extracted from them, especially in regards to the different functions."
   ]
  },
  {
   "cell_type": "code",
   "execution_count": 1,
   "metadata": {},
   "outputs": [],
   "source": [
    "import numpy as np\n",
    "\n",
    "RNG = np.random.default_rng(42)"
   ]
  },
  {
   "cell_type": "markdown",
   "metadata": {},
   "source": [
    "## Static creation of matrices\n",
    "The easiest way to create matrices is to create them by either providing an array literal, or by providing the shape directly. They can be provided inline, or stored in an intermediate variable.\n"
   ]
  },
  {
   "cell_type": "code",
   "execution_count": 2,
   "metadata": {},
   "outputs": [],
   "source": [
    "def statically_provided():\n",
    "    A = np.array([0.0, 1.0, 2.0])\n",
    "    B = np.array([0.0, 1.0, 0.0, 2])\n",
    "\n",
    "    A @ B  # Crash because (3,) and (4,)\n",
    "\n",
    "\n",
    "# statically_provided()"
   ]
  },
  {
   "cell_type": "code",
   "execution_count": 3,
   "metadata": {},
   "outputs": [],
   "source": [
    "def provided_in_variable():\n",
    "    a = [1, 2, 3]\n",
    "    b = [4, 5, 6]\n",
    "    A = np.array(a)\n",
    "    B = np.array(b)\n",
    "    A @ B  # OK because (3,) and (3,)\n",
    "\n",
    "\n",
    "def provided_in_variable_not_ok():\n",
    "    a = [1, 2, 3]\n",
    "    b = [4, 5, 6, 7]\n",
    "    A = np.array(a)\n",
    "    B = np.array(b)\n",
    "    A @ B  # Crash because (3,) and (4,)\n",
    "\n",
    "\n",
    "provided_in_variable()\n",
    "# provided_in_variable_not_ok()"
   ]
  },
  {
   "cell_type": "markdown",
   "metadata": {},
   "source": [
    "Some instantiations are still static, but more complex. For exemple, the  `eye` function creates a square matrix from a single parameter, and `np.fromiter` creates a 1D matrix, but of potentially unknown shape."
   ]
  },
  {
   "cell_type": "code",
   "execution_count": 4,
   "metadata": {},
   "outputs": [],
   "source": [
    "def provided_shape_in_variable():\n",
    "    shape1, shape2 = (5, 5), (5, 5)\n",
    "    A = RNG.random(shape1)\n",
    "    B = RNG.random(shape2)\n",
    "    A @ B\n",
    "\n",
    "\n",
    "def provided_shape_in_variable_less_direct():\n",
    "    n = 6\n",
    "    I = np.eye(n)\n",
    "    A = RNG.random((n, n))\n",
    "    I @ A\n",
    "    assert np.allclose(I @ A, A)\n",
    "\n",
    "\n",
    "def provided_shape_through_iterator():\n",
    "    _from = [1, 2, 3, 4, 5, 6, 7, 8, 9]\n",
    "    A = np.fromiter(_from, dtype=int)\n",
    "    _from_2 = [1, 2, 3, 4, 5, 6, 7, 8, 9]\n",
    "    B = np.fromiter(_from_2, dtype=int)\n",
    "\n",
    "    A @ B.T\n",
    "\n",
    "\n",
    "provided_shape_in_variable()\n",
    "provided_shape_in_variable_less_direct()\n",
    "provided_shape_through_iterator()"
   ]
  },
  {
   "cell_type": "markdown",
   "metadata": {},
   "source": [
    "## Matrix reshaping\n",
    "A matrix can be reshaped in multiple ways. The most-straightforward exemple is the use of `ravel` or `flatten`, which will flatten the matrix into a 1D array. Using those functions, we can always know the number of dimensions, but the output shape needs the full knowledge of the input shape."
   ]
  },
  {
   "cell_type": "code",
   "execution_count": 5,
   "metadata": {},
   "outputs": [],
   "source": [
    "def inferrable_through_ravel():\n",
    "    A = np.array([[1, 2, 3], [4, 5, 6]])\n",
    "    B = np.array([1, 1, 1, 1, 1, 1])\n",
    "    A.ravel() @ B  # OK because (2,3) ==> (6,) and (6,)\n",
    "\n",
    "\n",
    "inferrable_through_ravel()"
   ]
  },
  {
   "cell_type": "markdown",
   "metadata": {},
   "source": [
    "Another way is through `reshape`, which allows to change the shape of the matrix. \n",
    "This function can be used with a fully known wanted output shape, or with an implicit component as `-1`, which will be inferred at runtime.\n",
    "\n",
    "If the operation is a success, then we can successfully known the full shape of the output matrix."
   ]
  },
  {
   "cell_type": "code",
   "execution_count": 6,
   "metadata": {},
   "outputs": [],
   "source": [
    "def inferrable_through_reshape_easy():\n",
    "    A = np.array([[1, 2, 3], [4, 5, 6]])\n",
    "    B = np.array([1, 1, 1, 1, 1, 1])\n",
    "    A @ B.reshape(3, 2)  # OK\n",
    "\n",
    "\n",
    "def inferrable_through_reshape_medium():\n",
    "    A = np.array([[1, 2, 3], [4, 5, 6]])\n",
    "    B = np.array([1, 1, 1, 1, 1, 1])\n",
    "    A @ B.reshape(3, -1)  # OK\n",
    "\n",
    "\n",
    "inferrable_through_reshape_easy()\n",
    "inferrable_through_reshape_medium()"
   ]
  },
  {
   "cell_type": "code",
   "execution_count": 7,
   "metadata": {},
   "outputs": [],
   "source": [
    "def error_on_reshape_easy():\n",
    "    A = np.array([[1, 2, 3], [4, 5, 6]])\n",
    "    A.reshape(2, 2)  # Crash because (2,3) ==> (2,2) is not possible\n",
    "\n",
    "\n",
    "def error_on_reshape_less_easy():\n",
    "    A = np.array([[1, 2, 3], [4, 5, 6]])\n",
    "    A.reshape(4, -1)  # Crash because (2,3) ==> (4, -1) is not possible\n",
    "    # The number of elements would need to be dividable by 4, but 6 is not dividable by 4\n",
    "\n",
    "\n",
    "# error_on_reshape() // NOSONAR\n",
    "# error_on_reshape_less_easy()"
   ]
  },
  {
   "cell_type": "markdown",
   "metadata": {},
   "source": [
    "## Known shape for linear algebra & consecutive operations\n",
    "\n",
    "A lot of the linear algebra functions in Numpy have some preconditions that we cannot always check statically. \n",
    "For exemple, in order to invert a matrix, it first of all needs to be square, which we can check. However, it also requires some additional properties such as not having 0 as an eigenvalue, which we cannot realistically check statically.\n",
    "\n",
    "\n",
    "If the preconditions are met, then we will usually be able to know the shape of the output matrix. For exemple, the inverse of a square matrix will always be a square matrix of the same shape. Or if a matrix is diagonalizable and of shape (n, n), then it will have n eigenvalues and n eigenvectors."
   ]
  },
  {
   "cell_type": "code",
   "execution_count": 8,
   "metadata": {},
   "outputs": [
    {
     "name": "stdout",
     "output_type": "stream",
     "text": [
      "[[1 2 3]\n",
      " [4 5 6]\n",
      " [0 8 9]] [[1.00000000e+00-1.01695977e-16j 2.00000000e+00-4.14763046e-18j\n",
      "  3.00000000e+00+1.13224577e-17j]\n",
      " [4.00000000e+00-1.49070009e-17j 5.00000000e+00+2.00447560e-17j\n",
      "  6.00000000e+00-3.69502958e-17j]\n",
      " [1.57234996e-16+1.74263588e-17j 8.00000000e+00-5.63295652e-17j\n",
      "  9.00000000e+00+3.47323741e-17j]]\n"
     ]
    }
   ],
   "source": [
    "def inferrable_through_conservation_1():\n",
    "    A = np.array([[1, 2, 3], [4, 5, 6], [0, 8, 9]])\n",
    "    A2 = np.linalg.inv(A)  # Same shape, which is square, because of A @ A^(-1) = I\n",
    "\n",
    "    A @ A2  # OK because (3,3) and (3,3)\n",
    "    assert np.allclose(A @ A2, np.eye(3))\n",
    "\n",
    "\n",
    "def inferrable_through_consecutive_transformations():\n",
    "    A = np.array([[1, 2, 3], [4, 5, 6], [0, 8, 9]])\n",
    "\n",
    "    eigen_vals, eigen_vecs = np.linalg.eig(A) # Must be square and diagonalizable, we can only check the squareness statically\n",
    "    D = np.diag(eigen_vals)\n",
    "    P = eigen_vecs\n",
    "    P_1 = np.linalg.inv(P)\n",
    "\n",
    "    A2 = P @ D @ P_1\n",
    "    print(A, A2)  # Notice the modified dtype : int -> complex\n",
    "    assert np.allclose(A, A2)\n",
    "\n",
    "\n",
    "inferrable_through_conservation_1()\n",
    "inferrable_through_consecutive_transformations()"
   ]
  },
  {
   "cell_type": "markdown",
   "metadata": {},
   "source": [
    "## Cross-procedural analysis\n",
    "\n",
    "Numpy is used in a lot of different ways, and it is very common to see it used in a cross-procedural way.\n",
    "For exemple, a matrix can be created in one function, and then passed to another function that will reshape it, and then passed to another function that will perform some linear algebra operations on it.\n",
    "\n",
    "The next exemples are the same as before, but split up in multiple functions."
   ]
  },
  {
   "cell_type": "code",
   "execution_count": 9,
   "metadata": {},
   "outputs": [],
   "source": [
    "def inferrable_crossprocedural_make_square():\n",
    "    return RNG.random((5, 5))\n",
    "\n",
    "\n",
    "def inferrable_crossprocedural():\n",
    "    A = inferrable_crossprocedural_make_square()\n",
    "    A @ A\n",
    "\n",
    "\n",
    "def inferrable_crossprocedural_make_not_square():\n",
    "    return RNG.random((5, 53))\n",
    "\n",
    "\n",
    "def inferrable_crossprocedural_crash():\n",
    "    A = inferrable_crossprocedural_make_not_square()\n",
    "    A @ A\n",
    "\n",
    "\n",
    "inferrable_crossprocedural()\n",
    "# inferrable_crossprocedural_crash()"
   ]
  },
  {
   "cell_type": "code",
   "execution_count": 10,
   "metadata": {},
   "outputs": [
    {
     "name": "stdout",
     "output_type": "stream",
     "text": [
      "[[1 2 3]\n",
      " [4 5 6]\n",
      " [0 8 9]] [[1.00000000e+00-1.01695977e-16j 2.00000000e+00-4.14763046e-18j\n",
      "  3.00000000e+00+1.13224577e-17j]\n",
      " [4.00000000e+00-1.49070009e-17j 5.00000000e+00+2.00447560e-17j\n",
      "  6.00000000e+00-3.69502958e-17j]\n",
      " [1.57234996e-16+1.74263588e-17j 8.00000000e+00-5.63295652e-17j\n",
      "  9.00000000e+00+3.47323741e-17j]]\n"
     ]
    }
   ],
   "source": [
    "def inferrable_crossprocedural_diagonalize(M):  # Needs a square matrix\n",
    "    eigen_vals, eigen_vecs = np.linalg.eig(M)\n",
    "    D = np.diag(eigen_vals)\n",
    "    return D, eigen_vecs\n",
    "\n",
    "\n",
    "def inferrable_crossprocedural_consecutive_transformations():\n",
    "    A = np.array([[1, 2, 3], [4, 5, 6], [0, 8, 9]])\n",
    "\n",
    "    D, P = inferrable_crossprocedural_diagonalize(A)\n",
    "    P_1 = np.linalg.inv(P)\n",
    "\n",
    "    A2 = P @ D @ P_1\n",
    "    print(A, A2)  # Notice the modified dtype : int -> complex\n",
    "    assert np.allclose(A, A2)\n",
    "\n",
    "\n",
    "inferrable_crossprocedural_consecutive_transformations()"
   ]
  },
  {
   "cell_type": "markdown",
   "metadata": {},
   "source": [
    "## Exemple of more complex and realistic algorithms"
   ]
  },
  {
   "cell_type": "markdown",
   "metadata": {},
   "source": [
    "### Finding the biggest eigen value and vector by power iteration\n",
    "\n",
    "The power iteration algorithm is a simple algorithm that can be used to find the biggest eigenvalue and eigenvector of a matrix. \n",
    "\n",
    "It uses a loop, but the matrix inside of the loop never change shape. In order to be able to fully deduce the required shapes, we need a very accurate model of `numpy`. The deciding factor here is the comparison between `np.abs` and a scalar."
   ]
  },
  {
   "cell_type": "code",
   "execution_count": 11,
   "metadata": {},
   "outputs": [
    {
     "data": {
      "text/plain": [
       "(3.0, array([0.70710678, 0.70710678]))"
      ]
     },
     "execution_count": 11,
     "metadata": {},
     "output_type": "execute_result"
    }
   ],
   "source": [
    "def biggest_eigenvalue_loop(M, x, tol=1e-6, max_iter=100):\n",
    "    lam = 0.0\n",
    "\n",
    "    for _ in range(max_iter):\n",
    "        x = (\n",
    "            M @ x / np.linalg.norm(M @ x)\n",
    "        )  # M @ x => If M and x are 2D : means that last dimension of M and second last dimension of x must be the same\n",
    "        # if M is 2D and x is 1D : then we get x = (m,)\n",
    "        new_lam = (\n",
    "            (x.T @ M @ x) / (x.T @ x)\n",
    "        )  # x.T @ x is always ok for 2D ; if x is 2D => we have (x2, x1) @ (m, n) @ (x1, x2) => m == n so M must be square\n",
    "        # if x is 1D => we have (x,) @ (m, n) @ (x,) = (1,) => m == n so M must be square and we get a scalar as an output\n",
    "        if (\n",
    "            np.abs(new_lam - lam) < tol\n",
    "        ):  # from this comparison, since tol is a scalar, lam must be a scalar. For lam to be a scalar, x must be a 1D array\n",
    "            break\n",
    "        lam = new_lam\n",
    "\n",
    "    return lam, x\n",
    "\n",
    "\n",
    "biggest_eigenvalue_loop(np.array([[1, 2], [2, 1]]), np.array([0.1, 0.1]))\n",
    "# biggest_eigenvalue_loop(np.array([[1, 2], [2, 1]]), np.array([[0.1, 0.1], [0.1, 0.1]])) Crash because x is 2D"
   ]
  },
  {
   "cell_type": "markdown",
   "metadata": {},
   "source": [
    "### Mandelbrot set\n",
    "\n",
    "This function computes the Mandelbrot set. It creates 3 matrices that have the same shape by using the shape of another matrix. \n",
    "This exemple makes heavy use of broadcasting, with F being a mask that stops the iteration when a point has already escaped."
   ]
  },
  {
   "cell_type": "code",
   "execution_count": 12,
   "metadata": {},
   "outputs": [],
   "source": [
    "def mandelbrot_matrix(niter=200):\n",
    "    Lx = np.linspace(-2, 0.8, 2_000)\n",
    "    Ly = np.linspace(-1.3, 1.3, 2_000)\n",
    "\n",
    "    A, B = np.meshgrid(Lx, Ly)\n",
    "    C = A + 1j * B\n",
    "    Z = np.zeros(C.shape, dtype=complex)  # All 3 have same shape\n",
    "    N = np.zeros(Z.shape, dtype=int)\n",
    "    F = np.full(Z.shape, True, dtype=bool)\n",
    "    for _ in range(0, niter):\n",
    "        Z[F] = Z[F] * Z[F] + C[F]  # F is a mask, so must have the same shape\n",
    "        M = np.abs(Z)\n",
    "        N[M <= 2] += 1\n",
    "        F[M > 2] = False\n",
    "\n",
    "    N[N == niter] = -1\n",
    "    return N"
   ]
  },
  {
   "cell_type": "code",
   "execution_count": 13,
   "metadata": {},
   "outputs": [
    {
     "data": {
      "image/png": "[encoded data removed]",
      "text/plain": [
       "<Figure size 640x480 with 1 Axes>"
      ]
     },
     "metadata": {},
     "output_type": "display_data"
    }
   ],
   "source": [
    "try:\n",
    "    import matplotlib.pyplot as plt\n",
    "    plt.imshow(mandelbrot_matrix(), cmap=\"hot\")\n",
    "except ImportError:\n",
    "    print(\"matplotlib not installed, skipping plotting\")"
   ]
  },
  {
   "cell_type": "markdown",
   "metadata": {},
   "source": [
    "### Multi Layer Perceptron\n",
    "\n",
    "This example is a simple MLP(Multi Layer Perceptron) with the Relu activation function. \n",
    "It uses simple matrix operations, but is split up in many different functions to showcase the need for cross-procedural analysis.\n",
    "It uses nested function calls without intermediate variables, which could make it harder to track the shapes of the matrices. \n",
    "\n",
    "The main take-away for this exemple is validating the shapes of the series of layers : in a perfect world, we want to be able to check if the input dimensions of the dataset fit the input dimensions of the first layer, and if the output dimensions of the last layer fit the output dimensions of the dataset.\n",
    "\n",
    "More realistically, we want to be able to check if the output dimensions of a layer fit the input dimensions of the next layer."
   ]
  },
  {
   "cell_type": "code",
   "execution_count": 14,
   "metadata": {},
   "outputs": [],
   "source": [
    "def forward(x, W, b):\n",
    "    return x.dot(W) + b\n",
    "\n",
    "\n",
    "def init_layer(n_in, n_out):\n",
    "    W = RNG.random((n_in, n_out))\n",
    "    b = RNG.random((1, n_out))\n",
    "    return W, b\n",
    "\n",
    "\n",
    "def relu(x):\n",
    "    return np.maximum(0, x)\n",
    "\n",
    "\n",
    "def relu_derivative(x):\n",
    "    return (x > 0).astype(float)\n",
    "\n",
    "\n",
    "def error(x, y):\n",
    "    return np.sum(x - y)\n",
    "    return np.sum((x - y) ** 2)\n",
    "\n",
    "\n",
    "\n",
    "def network_forward_1(x, W1, b1, W2, b2): # x : (batch, 2)\n",
    "    x = forward(x, W1, b1)  # (batch, hidden_size)\n",
    "    x = relu(x)  # (batch, hidden_size)\n",
    "    x = forward(x, W2, b2)  # (hidden_size, 1)\n",
    "    x = relu(x)  # (hidden_size, 1)\n",
    "    return x\n",
    "\n",
    "\n",
    "def network_fit_1(x, y, W1, b1, W2, b2, lr=0.01):\n",
    "    layer_1 = forward(x, W1, b1)  # x : (batch, hidden_size)\n",
    "    activation_1 = relu(layer_1)  # x : (batch, hidden_size)\n",
    "    layer_2 = forward(activation_1, W2, b2)  # x : (batch, 1)\n",
    "    activation_2 = relu(layer_2)  # x : (batch, 1)\n",
    "\n",
    "    pred = activation_2\n",
    "\n",
    "    err = pred - y # (batch, 1)\n",
    "\n",
    "    m = x.shape[0] # int \n",
    "    derivative_weights_2 = 1 / m * np.dot(activation_1.T, err * relu_derivative(pred)) # (hidden_size, 1)\n",
    "    derivative_bias_2 = (\n",
    "        1 / m * np.sum(err * relu_derivative(pred), axis=0, keepdims=True)\n",
    "    ) # (1, 1)\n",
    "    derivative_weights_1 = (\n",
    "        1\n",
    "        / m\n",
    "        * np.dot(\n",
    "            x.T,\n",
    "            np.dot(err * relu_derivative(pred), W2.T) * relu_derivative(activation_1),\n",
    "        )\n",
    "    ) # (2, hidden_size)\n",
    "    derivative_bias_1 = (\n",
    "        1\n",
    "        / m\n",
    "        * np.sum(\n",
    "            np.dot(err * relu_derivative(pred), W2.T) * relu_derivative(activation_1),\n",
    "            axis=0,\n",
    "            keepdims=True,\n",
    "        )\n",
    "    ) # (1, hidden_size)\n",
    "\n",
    "    W2 -= lr * derivative_weights_2\n",
    "    b2 -= lr * derivative_bias_2\n",
    "    W1 -= lr * derivative_weights_1\n",
    "    b1 -= lr * derivative_bias_1\n",
    "\n",
    "    return W1, b1, W2, b2\n"
   ]
  },
  {
   "cell_type": "code",
   "execution_count": 15,
   "metadata": {},
   "outputs": [
    {
     "name": "stdout",
     "output_type": "stream",
     "text": [
      "error :  3.7003961451156693\n",
      "error :  1.8425690401693862\n",
      "error :  1.1297593864033462\n",
      "error :  0.7863441700661741\n",
      "error :  0.6075359222804275\n",
      "error :  0.5082463991869431\n",
      "error :  0.45107652211883453\n",
      "error :  0.4201698648073235\n",
      "error :  0.4075803778800848\n",
      "error :  0.4036841070064242\n"
     ]
    }
   ],
   "source": [
    "try:\n",
    "    from sklearn.datasets import make_regression\n",
    "    from sklearn.preprocessing import StandardScaler\n",
    "    _sklearn_ok = True\n",
    "except ImportError:\n",
    "    _sklearn_ok = False\n",
    "\n",
    "if _sklearn_ok:\n",
    "    X, Y = make_regression(n_features=2)\n",
    "    scaler = StandardScaler()\n",
    "    X = scaler.fit_transform(X)\n",
    "    scaler2 = StandardScaler()\n",
    "    Y = scaler2.fit_transform(Y.reshape(-1, 1)).ravel()\n",
    "    Y = Y.reshape(-1, 1)\n",
    "\n",
    "    hidden_size = 10\n",
    "    W1, b1 = init_layer(2, hidden_size)\n",
    "    W2, b2 = init_layer(hidden_size, 1)\n",
    "\n",
    "    for i in range(100):\n",
    "        W1, b1, W2, b2 = network_fit_1(X, Y, W1, b1, W2, b2)\n",
    "        if i % 10 == 0:\n",
    "            print(\"error : \", error(network_forward_1(X, W1, b1, W2, b2), Y)/X.shape[0])"
   ]
  },
  {
   "cell_type": "markdown",
   "metadata": {},
   "source": [
    "## Checking the shape manually\n",
    "\n",
    "It is possible to check the shape of a matrix manually, by using the `shape` attribute. This can be done at any point in the program, and this information can be used to deduce properties on the shape, if not the full shape."
   ]
  },
  {
   "cell_type": "code",
   "execution_count": 16,
   "metadata": {},
   "outputs": [],
   "source": [
    "def from_unknown_wrong_shape_check():\n",
    "    A = ...\n",
    "    B = ...\n",
    "\n",
    "    print(A.shape, B.shape)\n",
    "\n",
    "    if (\n",
    "        A.shape[1] == B.shape[0]\n",
    "    ):  # This is the opposite of the usual check, and also assumes they are 2D arrays\n",
    "        return\n",
    "    A @ B  # Might crash, since the check is incorrect\n",
    "\n",
    "\n",
    "def from_unknown_wrong_shape_check_more_check():\n",
    "    A = ...\n",
    "    B = ...\n",
    "\n",
    "    print(A.shape, B.shape)\n",
    "\n",
    "    if (\n",
    "        A.ndim == 2 and B.ndim == 2 and A.shape[1] == B.shape[0]\n",
    "    ):  # This is the opposite of the usual check\n",
    "        return\n",
    "    A @ B  # Might crash, since the check is incorrect\n",
    "\n",
    "\n",
    "# from_unknown_wrong_shape_check()\n",
    "# from_unknown_wrong_shape_check_more_check()"
   ]
  },
  {
   "cell_type": "markdown",
   "metadata": {},
   "source": [
    "## Getting a bound on the shape from the axis parameter\n",
    "\n",
    "Some functions in Numpy have an `axis` parameter, which if successful, can give us a minimum bound on the number of dimensions of both input and output matrix"
   ]
  },
  {
   "cell_type": "code",
   "execution_count": 17,
   "metadata": {},
   "outputs": [
    {
     "data": {
      "text/plain": [
       "array([[2.60302057, 2.98194327, 2.24668896, 3.44594005, 3.07928416],\n",
       "       [2.16479353, 2.95304034, 1.91969777, 2.88865959, 1.35744012],\n",
       "       [2.95140571, 2.15280808, 2.17996253, 3.29379911, 3.1539108 ],\n",
       "       [1.07650496, 1.16490423, 2.45392904, 1.50674511, 2.4185856 ],\n",
       "       [2.841753  , 2.52673615, 3.01009441, 2.97484554, 1.39683728]])"
      ]
     },
     "execution_count": 17,
     "metadata": {},
     "output_type": "execute_result"
    }
   ],
   "source": [
    "def axis_deduce_bounds_1(A):\n",
    "    return np.sum(A, axis=1) # If this works, then ndim >= 1 + 1\n",
    "\n",
    "def axis_and_einsum_mismatch(A):\n",
    "    _ = np.einsum(\"ij,jk->ik\", A, A)\n",
    "    return np.sum(A, axis=2)\n",
    "    # Here, we have conflicting information : A is supposed to be 2D from the einsum string, but reducing on axis=2 implies that A is 3D\n",
    "    # Since we are reducing on axis=2, the result will have one less dimension\n",
    "\n",
    "axis_deduce_bounds_1(RNG.random((5, 5)))\n",
    "axis_deduce_bounds_1(RNG.random((5, 5, 5)))\n",
    "# axis_deduce_bounds_1(RNG.random((5,))) # AxisError: axis 1 is out of bounds for array of dimension 1"
   ]
  },
  {
   "cell_type": "markdown",
   "metadata": {},
   "source": [
    "## Using partial knowlege to infer intermediary steps\n",
    "\n",
    "In order to tackle real-worl cases, it is important to be able to infer the shapes of intermediary steps when possible, to be able to use them in further operations.\n",
    "\n",
    "Here, we have a 3 matrices that are multiplied together, but we only know the shape of the first and last one. It is possible to infer the shape of the intermediary matrix by using the shape of the other two matrices.\n",
    "This way, we can raise issues when reusing the middle matrix in further operations."
   ]
  },
  {
   "cell_type": "code",
   "execution_count": 18,
   "metadata": {},
   "outputs": [],
   "source": [
    "def with_a_third_unknown(B: np.ndarray):\n",
    "    A = RNG.random((3, 4))\n",
    "    C = RNG.random((4, 5))\n",
    "\n",
    "    A @ B @ C  # Might work, if B is (4,4)\n",
    "\n",
    "\n",
    "def inferrerable_with_a_third_unknown_reused(B):\n",
    "    A = RNG.random((3, 4))\n",
    "    C = RNG.random((4, 5))\n",
    "\n",
    "    A @ B @ C  # Might work, if B is (4,4)\n",
    "\n",
    "    D = RNG.random((4, 4))\n",
    "    B @ D  # Will work if we did not crash before, since the shape of B can be inferred\n",
    "\n",
    "\n",
    "with_a_third_unknown(RNG.random((4, 4)))  # OK\n",
    "# with_a_third_unknown(np.random.rand(4, 5)) # Crash\n",
    "\n",
    "inferrerable_with_a_third_unknown_reused(RNG.random((4, 4)))  # OK\n",
    "# inferrerable_with_a_third_unknown_reused(np.random.rand(4, 5)) # Crash"
   ]
  },
  {
   "cell_type": "markdown",
   "metadata": {},
   "source": [
    "## Eventual `np.trace` rule\n",
    "\n",
    "Mathematically, the trace is defined to be the sum of all the diagonal elements of a square matrix. Numpy extends this definition to non-square matrices.\n",
    "This was raised [on the official Numpy repository](https://github.com/numpy/numpy/issues/25391), where it was not very well received. \n",
    "\n",
    "I think this rule could be specified, as long as we find an alternative for non-square matrices to replace it."
   ]
  },
  {
   "cell_type": "code",
   "execution_count": 19,
   "metadata": {},
   "outputs": [],
   "source": [
    "def needs_square_trace():\n",
    "    A = RNG.random((25, 25))\n",
    "    A.trace()\n",
    "\n",
    "\n",
    "def needs_square_trace_strange_behavior():\n",
    "    A = RNG.random((5, 26))\n",
    "    A.trace()  # Might expect a crash since it is not square, but numpy returns a result anyway\n",
    "\n",
    "\n",
    "needs_square_trace()\n",
    "needs_square_trace_strange_behavior()"
   ]
  },
  {
   "cell_type": "markdown",
   "metadata": {},
   "source": [
    "## The Einstein summation convention\n",
    "\n",
    "The Einstein summation convention (einsum) is a compact representation of sums of products for multidimensional matrices. It is a very powerful tool, and comes with its own DSL. It can be used to represent a lot of different operations, from the trace to matrix multiplication.\n",
    "\n",
    "While it is not possible to get the complete shape of the matrices involved, in most case, it is possible to get the number of dimensions.\n",
    "\n",
    "The DSL differs between libraries. For exemple, in Numpy, the `...` operator is used to represent broadcasting. In PyTorch, not all the operations are supported.\n",
    "\n",
    "A rule checking the validity of the einsum string could be useful.\n",
    "\n",
    "[Here](https://rockt.github.io/2018/04/30/einsum) is a website that explains it pretty well."
   ]
  },
  {
   "cell_type": "code",
   "execution_count": 20,
   "metadata": {},
   "outputs": [
    {
     "name": "stdout",
     "output_type": "stream",
     "text": [
      "[[0.53633843 0.43262932]\n",
      " [0.8309878  0.16599534]]\n",
      "0.702333774454683\n"
     ]
    }
   ],
   "source": [
    "def einsum_trace():\n",
    "    A = RNG.random((100, 100))\n",
    "    assert np.allclose(np.einsum(\"ii->\", A), np.trace(A))\n",
    "\n",
    "def einsum_trace_ellipsis():\n",
    "    A = RNG.random((100, 100))\n",
    "    assert np.allclose(np.einsum(\"...ii->...\", A), np.trace(A))\n",
    "\n",
    "def einsum_sum_ellipsis_broadcast():\n",
    "    A = RNG.random((456,23,2,2))\n",
    "    einsum = np.einsum(\"...ii->...\", A)\n",
    "    print(A[0,0,:])\n",
    "    print(einsum[0, 0])\n",
    "    assert np.allclose(einsum, np.trace(A, axis1=-2, axis2=-1))\n",
    "    assert einsum.shape == (456, 23)\n",
    "\n",
    "def einsum_sum_product():\n",
    "    A = RNG.random((100, 100))\n",
    "    B = RNG.random((100, 100))\n",
    "    # Elementwise product\n",
    "    assert np.allclose(np.einsum(\"ij,ij->\", A, B), np.sum(A * B))\n",
    "\n",
    "def einsum_tensor_product():\n",
    "    A = RNG.random((100, 100))\n",
    "    B = RNG.random((100, 100))\n",
    "    # Matrix/tensor product\n",
    "    assert np.allclose(np.einsum(\"ij,jk->ik\", A, B), A @ B)\n",
    "\n",
    "def einsum_complicated():\n",
    "    A = RNG.random((100, 100))\n",
    "    B = RNG.random((100, 100))\n",
    "    C = RNG.random((100, 100))\n",
    "    # Complicated einsum\n",
    "    assert np.allclose(np.einsum(\"ij,jk,kl->il\", A, B, C), A @ B @ C)\n",
    "\n",
    "# With einsum, the number of letters for each matrix gives us its number of dimensions, except when there is an ellipsis\n",
    "# The DSL is slightly different for each matrix library, some like Pytorch don't support everything\n",
    "\n",
    "einsum_trace()\n",
    "einsum_trace_ellipsis()\n",
    "einsum_sum_ellipsis_broadcast()\n",
    "einsum_sum_product()\n",
    "einsum_tensor_product()\n",
    "einsum_complicated()"
   ]
  },
  {
   "cell_type": "markdown",
   "metadata": {},
   "source": [
    "## Vectors\n",
    "\n",
    "Vectors are a special case of matrices, and some patterns happen very often, such as using their transpose."
   ]
  },
  {
   "cell_type": "code",
   "execution_count": 21,
   "metadata": {},
   "outputs": [],
   "source": [
    "\n",
    "def vector_scalar_from_array():\n",
    "    X = np.array([1, 2, 3])\n",
    "    np.dot(X, X.T)\n",
    "\n",
    "\n",
    "def vector_scalar_from_ravel():\n",
    "    A = np.array([[1, 2, 3], [4, 5, 6]])\n",
    "    X = A.ravel()\n",
    "    np.dot(X, X.T)\n",
    "\n",
    "\n",
    "def vector_scalar_from_flatten():\n",
    "    A = np.array([[1, 2, 3], [4, 5, 6]])\n",
    "    X = A.flatten()\n",
    "    np.dot(X, X.T)\n",
    "\n",
    "\n",
    "vector_scalar_from_array()\n",
    "vector_scalar_from_ravel()\n",
    "vector_scalar_from_flatten()"
   ]
  },
  {
   "cell_type": "markdown",
   "metadata": {},
   "source": [
    "## Tensors and higher dimensions with linear algebra\n",
    "\n",
    "Tensors (matrices with more than 2 dimensions) are a generalization of matrices, and can be used in a similar way with most linear algebra functions. However, they will be interpreted as a stack of matrices, and the operations will be applied to each of them.\n",
    "\n",
    "For exemple, the `np.linalg.det`  will 'remove' the last 2 dimensions of the tensor, and replace them with just the determinant (a scalar)."
   ]
  },
  {
   "cell_type": "code",
   "execution_count": 22,
   "metadata": {},
   "outputs": [],
   "source": [
    "def tensor_linalg_det():\n",
    "    A = np.array([[[1, 2], [3, 4]], [[5, 6], [7, 8]], [[9,10], [11, 12]]]) # (3, 2, 2)\n",
    "    return np.linalg.det(A) # (3,) because we have a stack of 3 2x2 matrices\n",
    "    # The last 2 dimensions are removed, they are replaced by a scalar\n",
    "def tensor_linalg_det_explicit_shape():\n",
    "    A = RNG.random((25, 4, 3, 8, 8)) # The last 2 dimensions must be square (equal)\n",
    "    assert np.linalg.det(A).shape == (25, 4, 3) # The last 2 dimensions are removed\n",
    "\n",
    "tensor_linalg_det()\n",
    "tensor_linalg_det_explicit_shape()"
   ]
  },
  {
   "cell_type": "markdown",
   "metadata": {},
   "source": [
    "### Tensordot shapes\n",
    "\n",
    "The `tensordot` function can be used in multiple ways, and inferring the shape of the output tensor can be quite complex."
   ]
  },
  {
   "cell_type": "code",
   "execution_count": 23,
   "metadata": {},
   "outputs": [],
   "source": [
    "def tensordot_axis0():\n",
    "    a = RNG.random((3, 4))\n",
    "    b = RNG.random((5, 6, 7, 8))\n",
    "    result_axis0 = np.tensordot(a, b, axes=0)\n",
    "    assert result_axis0.shape == (3, 4, 5, 6, 7, 8)\n",
    "\n",
    "def tensordot_axis1():\n",
    "    a = RNG.random((3, 4, 5))\n",
    "    b = RNG.random((5, 6, 7))\n",
    "    result_axis1 = np.tensordot(a, b, axes=1)\n",
    "    assert result_axis1.shape == (3, 4, 6, 7)\n",
    "\n",
    "def tensordot_axis2():\n",
    "    a = RNG.random((3, 4, 5, 6))\n",
    "    b = RNG.random((5, 6, 7, 8))\n",
    "    result_axis2 = np.tensordot(a, b, axes=2)\n",
    "    assert result_axis2.shape == (3, 4, 7, 8)\n",
    "\n",
    "tensordot_axis0()\n",
    "tensordot_axis1()\n",
    "tensordot_axis2()"
   ]
  },
  {
   "cell_type": "markdown",
   "metadata": {},
   "source": [
    "## Universal functions (ufuncs) and vectorization\n",
    "\n",
    "Numpy has a lot of universal functions, which are functions that can be applied to a matrix and interpret it correctly. Most of the functions are written in C, and are very optimized. \n",
    "\n",
    "It is possible to write custom ufuncs from python, but all the capabilities can not be used."
   ]
  },
  {
   "cell_type": "code",
   "execution_count": 24,
   "metadata": {},
   "outputs": [],
   "source": [
    "square = np.frompyfunc(lambda x: x*x, 1, 1)\n",
    "square_res = square(np.arange(10))\n",
    "\n",
    "# This ufunc gives no information about shape, but with frompyfunc, the dtype always becomes object\n",
    "\n",
    "assert square_res.dtype == object\n",
    "assert np.allclose(square_res.astype(int), np.arange(10)**2)"
   ]
  },
  {
   "cell_type": "markdown",
   "metadata": {},
   "source": [
    "### `np.vectorize`\n",
    "\n",
    "`np.vectorize` is a function that can be used to vectorize a function. It is possible to specify the signature of the function, which is verified at runtime."
   ]
  },
  {
   "cell_type": "code",
   "execution_count": 25,
   "metadata": {},
   "outputs": [],
   "source": [
    "def square_vectorize(x):\n",
    "    return x ** 2\n",
    "\n",
    "f = np.vectorize(square_vectorize, signature=\"(n)->(n)\") # There is a signature that allows us to infer at least some of the shape\n",
    "assert np.allclose(f(np.arange(10)), np.arange(10)**2)"
   ]
  },
  {
   "cell_type": "code",
   "execution_count": 26,
   "metadata": {},
   "outputs": [],
   "source": [
    "def vectorized_tensor_product(s1, s2):\n",
    "    A = RNG.random(s1)\n",
    "    B = RNG.random(s2)\n",
    "    f = np.vectorize(lambda x, y: x @ y, signature=\"(n,m),(m,p)->(n,p)\") # More complex signature\n",
    "    assert np.allclose(f(A, B), A @ B)\n",
    "\n",
    "vectorized_tensor_product((10, 5), (5, 10))\n",
    "vectorized_tensor_product((10, 5, 5), (10, 5, 5))\n",
    "\n",
    "# vectorized_tensor_product((10, 5, 5), (10, 1000, 5)) # ValueError: inconsistent size for core dimension 'm': 1000 vs 5"
   ]
  },
  {
   "cell_type": "markdown",
   "metadata": {},
   "source": [
    "## From typehints\n",
    "\n",
    "At the moment of writing, there are no definite ways to specify the shape from type hints. However, with https://github.com/numpy/numpy/issues/16544 and https://peps.python.org/pep-0646/, it will most likely be possible in the future\n",
    "\n",
    "They could like like `Array[H, W, Literal[3], int64]` for exemple. All of them will rely on the new `TypeVarTuple` typing utility."
   ]
  },
  {
   "cell_type": "markdown",
   "metadata": {},
   "source": [
    "# Conclusion\n",
    "\n",
    "It is possible to extract a lot of information from Numpy programs, especially when it comes to the shape of the matrices. However, it is not always possible to get the full shape, and sometimes we have to rely on partial information.\n",
    "The hope is to use DBD to extract all that information, and perform all the constraint checking (possibly with the help of a SMT solver).\n",
    "\n",
    "A lot of this work is going to be relevant for other libraries, since most of them expose either a `numpy`-compatible API, or are very similar in their behavior."
   ]
  }
 ],
 "metadata": {
  "kernelspec": {
   "display_name": "Python 3 (ipykernel)",
   "language": "python",
   "name": "python3"
  },
  "language_info": {
   "codemirror_mode": {
    "name": "ipython",
    "version": 3
   },
   "file_extension": ".py",
   "mimetype": "text/x-python",
   "name": "python",
   "nbconvert_exporter": "python",
   "pygments_lexer": "ipython3",
   "version": "3.11.8"
  }
 },
 "nbformat": 4,
 "nbformat_minor": 4
}
