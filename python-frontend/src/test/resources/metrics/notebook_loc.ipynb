x = None
if x is not None:
    print "not none"


def foo():
    x = 42
    x = 17
    print(x)
#SONAR_PYTHON_NOTEBOOK_CELL_DELIMITER
if x is not None:
    print("hello")
#SONAR_PYTHON_NOTEBOOK_CELL_DELIMITER
x = 42
#SONAR_PYTHON_NOTEBOOK_CELL_DELIMITER
#Some code
print("hello world\n")
#SONAR_PYTHON_NOTEBOOK_CELL_DELIMITER
print("My\ntext")
print("Something else\n")
#SONAR_PYTHON_NOTEBOOK_CELL_DELIMITER
print("My\ntext")
print("Something else\n")
#SONAR_PYTHON_NOTEBOOK_CELL_DELIMITER
a = "A bunch of characters \n \t \f \r / // \ "
b = None
#SONAR_PYTHON_NOTEBOOK_CELL_DELIMITER
