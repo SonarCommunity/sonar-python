#SONAR_PYTHON_NOTEBOOK_CELL_DELIMITER
def hello2():
    print("Hello world")
    return [
    ]
#SONAR_PYTHON_NOTEBOOK_CELL_DELIMITER
#A comment
class B:
    def method(self):
        pass
